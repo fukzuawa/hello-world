{
  "nbformat": 4,
  "nbformat_minor": 0,
  "metadata": {
    "colab": {
      "name": "myclass.ipynb",
      "version": "0.3.2",
      "provenance": [],
      "include_colab_link": true
    },
    "kernelspec": {
      "name": "python3",
      "display_name": "Python 3"
    }
  },
  "cells": [
    {
      "cell_type": "markdown",
      "metadata": {
        "id": "view-in-github",
        "colab_type": "text"
      },
      "source": [
        "<a href=\"https://colab.research.google.com/github/fukzuawa/hello-world/blob/master/myclass.ipynb\" target=\"_parent\"><img src=\"https://colab.research.google.com/assets/colab-badge.svg\" alt=\"Open In Colab\"/></a>"
      ]
    },
    {
      "metadata": {
        "id": "TnGjdKClQxyV",
        "colab_type": "text"
      },
      "cell_type": "markdown",
      "source": [
        "#数式\n",
        "\n",
        "$$\n",
        "y = \\int_{-\\infty}^{\\infty} f(x)\\ dx\n",
        "$$"
      ]
    },
    {
      "metadata": {
        "id": "LfpQaWl_Rv-K",
        "colab_type": "text"
      },
      "cell_type": "markdown",
      "source": [
        "\n",
        "\n",
        "1.   表\n",
        "2.   1個目\n",
        "\n",
        "\n",
        "\n",
        "\n",
        "| this | is |\n",
        "|-------|--- |\n",
        "|   a   | table|\n",
        "\n"
      ]
    },
    {
      "metadata": {
        "id": "08KiK3JCSrrh",
        "colab_type": "text"
      },
      "cell_type": "markdown",
      "source": [
        "**英語**\n",
        "*斜め*\n",
        "[git/fukuzawa](https://github.com/fukzuawa)"
      ]
    },
    {
      "metadata": {
        "id": "dlEKFaFETQzH",
        "colab_type": "code",
        "colab": {}
      },
      "cell_type": "code",
      "source": [
        ""
      ],
      "execution_count": 0,
      "outputs": []
    }
  ]
}